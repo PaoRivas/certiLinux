{
 "cells": [
  {
   "cell_type": "markdown",
   "metadata": {},
   "source": [
    "# Practica Nº 1\n",
    "# Certificacion Python"
   ]
  },
  {
   "cell_type": "markdown",
   "metadata": {},
   "source": [
    "1. Escriba un programa que lea un entero (input), lo multiplique por 3 y lo imprima."
   ]
  },
  {
   "cell_type": "code",
   "execution_count": 7,
   "metadata": {},
   "outputs": [
    {
     "name": "stdout",
     "output_type": "stream",
     "text": [
      "Ingrese un numero entero: 3\n",
      "9\n"
     ]
    }
   ],
   "source": [
    "entero=input(\"Ingrese un numero entero: \")\n",
    "num = int(entero)\n",
    "print(num*3)"
   ]
  },
  {
   "cell_type": "markdown",
   "metadata": {},
   "source": [
    "2. Escribir un programa que pida al cliente la longitud y ancho de la habitación e imprima la superficie de la habitación, los valores podrán tener decimales. Formato de salida deseado: xx.yy m^2"
   ]
  },
  {
   "cell_type": "code",
   "execution_count": 17,
   "metadata": {},
   "outputs": [
    {
     "name": "stdout",
     "output_type": "stream",
     "text": [
      "Insertar longitud: 3\n",
      "Insertar ancho: 4\n",
      "12.0 m^2\n"
     ]
    }
   ],
   "source": [
    "long=input(\"Insertar longitud: \")\n",
    "wide=input(\"Insertar ancho: \")\n",
    "calc=float(long)*float(wide)\n",
    "print(calc, \"m^2\")"
   ]
  },
  {
   "cell_type": "markdown",
   "metadata": {},
   "source": [
    "3. Determinar el área y volumen de un cilindro cuyas dimensiones (radio - altura) se lean desde el teclado. Formato de salida deseado: xx.yy m^3"
   ]
  },
  {
   "cell_type": "code",
   "execution_count": 19,
   "metadata": {},
   "outputs": [
    {
     "name": "stdout",
     "output_type": "stream",
     "text": [
      "Insertar radio: 1\n",
      "Insertar altura: 1\n",
      "Volumen:  3.141592653589793 m^3\n",
      "Area:  6.283185307179586 m^2\n"
     ]
    }
   ],
   "source": [
    "from math import pi\n",
    "radio=input(\"Insertar radio: \")\n",
    "high=input(\"Insertar altura: \")\n",
    "area=2*pi*float(radio)*(float(radio)*float(high))\n",
    "volumen=pi*(float(radio)**2)*float(high)\n",
    "print(\"Volumen: \", volumen, \"m^3\")\n",
    "print(\"Area: \", area, \"m^2\")\n"
   ]
  },
  {
   "cell_type": "markdown",
   "metadata": {},
   "source": [
    "4. La fuerza de atracción entre dos masas m1 y m2 separadas por una distancia d, está dada por la fórmula: F = G*m1*m2/d^2 \n",
    "Donde G es la constante de gravitación universal:\n",
    "G = 6.673 X 10^-8 cm^3 / g*seg^2\n",
    "Escriba un programa que lea la masa de dos cuerpos y la distancia entre ellos y a\n",
    "continuación obtenga la fuerza gravitacional entre ella. La salida debe ser en dinas; un\n",
    "DINA es igual a g*cm/seg^2 .\n",
    "Formato de salida deseado: xx.yy dyn"
   ]
  },
  {
   "cell_type": "code",
   "execution_count": 35,
   "metadata": {},
   "outputs": [
    {
     "name": "stdout",
     "output_type": "stream",
     "text": [
      "Insertar masa1: 1\n",
      "Insertar masa2: 1\n",
      "Insertar distancia: 2\n",
      "1.66825e-08 dyn\n"
     ]
    }
   ],
   "source": [
    "m1=input(\"Insertar masa1: \")\n",
    "m2=input(\"Insertar masa2: \")\n",
    "d=input(\"Insertar distancia: \")\n",
    "G=6.673*(10**-8)\n",
    "Fg=G*float(m1)*float(m2)/float(d)**2 \n",
    "print(Fg, \"dyn\")"
   ]
  },
  {
   "cell_type": "markdown",
   "metadata": {},
   "source": [
    "5. La famosa ecuación de Einstein para conversión de una masa m en energía viene dada por la fórmula E = c*m^3\n",
    "c es la velocidad de la luz\n",
    "c = 2 . 997925 X 10^10 m/seg\n",
    "Escribir un programa que lea una masa en gramos y obtenga la cantidad de energía\n",
    "producida cuando la masa se convierta en energía.\n",
    "Nota: se la masa se da en gramos, la fórmula produce la energía en ergios.\n",
    "Formato de salida deseado: xx.yy erg"
   ]
  },
  {
   "cell_type": "code",
   "execution_count": 36,
   "metadata": {},
   "outputs": [
    {
     "name": "stdout",
     "output_type": "stream",
     "text": [
      "Insertar masa en gramos: 5\n",
      "3747406250000.0 erg\n"
     ]
    }
   ],
   "source": [
    "m=input(\"Insertar masa en gramos: \")\n",
    "c= 2.997925*(10**10)\n",
    "E=c*(float(m)**3)\n",
    "print(E, \"erg\")"
   ]
  },
  {
   "cell_type": "markdown",
   "metadata": {},
   "source": [
    "6. Escribir un programa que lea la hora en un día de notación 24 horas y escriba la\n",
    "respuesta en notación de 12 horas. Por ejemplo, si la entrada es 13:45, la salida será:\n",
    "1:45 PM\n",
    "El programa pedirá al usuario que introduzca exactamente cinco caracteres. Así, por\n",
    "ejemplo, las nueve en punto se introduce como:\n",
    "09:00"
   ]
  },
  {
   "cell_type": "code",
   "execution_count": 46,
   "metadata": {},
   "outputs": [
    {
     "name": "stdout",
     "output_type": "stream",
     "text": [
      "Ingresar hora: 00:45\n",
      "00:45 AM\n"
     ]
    }
   ],
   "source": [
    "h=input(\"Ingresar hora: \")\n",
    "hora=h.split(sep=\":\")\n",
    "num=int(hora[0])\n",
    "if num<=12:\n",
    "    print(h,\"AM\")\n",
    "else:\n",
    "    hour=num-12\n",
    "    print(str(hour)+\":\"+hora[1], \"PM\")\n"
   ]
  },
  {
   "cell_type": "markdown",
   "metadata": {},
   "source": [
    "7. Leer un número A, evaluar sucesivamente las expresiones siguientes y desplegar los resultados obtenidos en un archivo denominado “practica01.out”.\n",
    "B = A + 10\n",
    "C = 2 * B + A\n",
    "D = A + B + C + 5\n",
    "Formato de salida deseado:\n",
    "Ejercicio 9.\n",
    "A = xx\n",
    "B = yy\n",
    "C = zz\n",
    "D = xyz"
   ]
  },
  {
   "cell_type": "code",
   "execution_count": 51,
   "metadata": {},
   "outputs": [
    {
     "name": "stdout",
     "output_type": "stream",
     "text": [
      "Ingrese numero: 5\n"
     ]
    }
   ],
   "source": [
    "A=input(\"Ingrese numero: \")\n",
    "B = int(A) + 10 \n",
    "C = 2 * B + int(A) \n",
    "D = int(A) + B + C + 5\n",
    "print(f\"Ejercicio 7 \\nA = {A} \\nB = {B} \\nC = {C} \\nD = {D}\", file=open(\"practica01.out\",\"w\"))"
   ]
  },
  {
   "cell_type": "markdown",
   "metadata": {},
   "source": [
    "8. Hacer leer un número X de tipo decimal, hallar su valor absoluto y decimal, desplegar\n",
    "el resultado dentro del archivo “practica01.out”.\n",
    "Formato de salida deseado:\n",
    "Ejercicio 8.\n",
    "Número: xx.yy\n",
    "Valor absoluto: xx\n",
    "Parte decimal: yy"
   ]
  },
  {
   "cell_type": "code",
   "execution_count": 66,
   "metadata": {},
   "outputs": [
    {
     "name": "stdout",
     "output_type": "stream",
     "text": [
      "Ingresar numero decimal: -4.7\n"
     ]
    }
   ],
   "source": [
    "dec=input(\"Ingresar numero decimal: \")\n",
    "lista=dec.split(sep=\".\")\n",
    "print(f\"Ejercicio 8 \\nNumero = {dec} \\nValor absoluto = {abs(float(dec))} \\nParte decimal = {lista[1]}\", file=open(\"practica01.out\",\"w\"))"
   ]
  },
  {
   "cell_type": "markdown",
   "metadata": {},
   "source": [
    "9. Leer a, b, c y d, hallar el menor y mayor de los cuatro números, desplegar su resultado\n",
    "en el archivo “practica01.out”."
   ]
  },
  {
   "cell_type": "code",
   "execution_count": 55,
   "metadata": {},
   "outputs": [
    {
     "name": "stdout",
     "output_type": "stream",
     "text": [
      "Ingresar numero A: 1\n",
      "Ingresar numero B: 2\n",
      "Ingresar numero C: 3\n",
      "Ingresar numero D: 4\n"
     ]
    }
   ],
   "source": [
    "a=int(input(\"Ingresar numero A: \"))\n",
    "b=int(input(\"Ingresar numero B: \"))\n",
    "c=int(input(\"Ingresar numero C: \"))\n",
    "d=int(input(\"Ingresar numero D: \"))\n",
    "\n",
    "lista=[a,b,c,d]\n",
    "print(f\"Ejercicio9 \\n{lista} \\nNumero mayor: {max(lista)} \\nNumero menor: {min(lista)}\", file=open(\"practica01.out\", \"w\"))"
   ]
  },
  {
   "cell_type": "markdown",
   "metadata": {},
   "source": [
    "10. Dado los valores de X, Y, Z, evaluar A = X^2+Y^2+Z^2. Si se cumple que, A<100 y Y<5\n",
    "calcular B = (X+Y)^2 – X*Z, caso contrario calcular B = (X-Y)^2 + X*Z. Desplegar A y B\n",
    "en el archivo “practica01.out”"
   ]
  },
  {
   "cell_type": "code",
   "execution_count": 61,
   "metadata": {},
   "outputs": [
    {
     "name": "stdout",
     "output_type": "stream",
     "text": [
      "Ingresar numero x: 1\n",
      "Ingresar numero y: 1\n",
      "Ingresar numero z: 1\n"
     ]
    }
   ],
   "source": [
    "X=int(input(\"Ingresar numero x: \"))\n",
    "Y=int(input(\"Ingresar numero y: \"))\n",
    "Z=int(input(\"Ingresar numero z: \"))\n",
    "\n",
    "A = X**2+Y**2+Z**2.\n",
    "if A<100 and Y<5:\n",
    "    B = (X+Y)**2 - X*Z\n",
    "else:\n",
    "    B = (X-Y)**2 + X*Z\n",
    "print(f\"Ejercicio10 \\nA: {A} \\nB: {B}\", file=open(\"practica01.out\", \"w\"))"
   ]
  },
  {
   "cell_type": "code",
   "execution_count": null,
   "metadata": {},
   "outputs": [],
   "source": []
  }
 ],
 "metadata": {
  "kernelspec": {
   "display_name": "Python 3",
   "language": "python",
   "name": "python3"
  },
  "language_info": {
   "codemirror_mode": {
    "name": "ipython",
    "version": 3
   },
   "file_extension": ".py",
   "mimetype": "text/x-python",
   "name": "python",
   "nbconvert_exporter": "python",
   "pygments_lexer": "ipython3",
   "version": "3.7.4"
  }
 },
 "nbformat": 4,
 "nbformat_minor": 2
}
