{
 "cells": [
  {
   "cell_type": "markdown",
   "metadata": {},
   "source": [
    "# Practica Nº 2 \n",
    "# Certificacion Python"
   ]
  },
  {
   "cell_type": "markdown",
   "metadata": {},
   "source": [
    "### Resolver con IF:"
   ]
  },
  {
   "cell_type": "markdown",
   "metadata": {},
   "source": [
    "21. Escribir un programa que determine si el año es bisiesto. Un año es bisiesto si es múltiplo de 4 (1988), excepto los múltiplos de 100 que no son bisiestos salvo que a su vez también sean múltiplos de 400 (1800no es bisiesto, 2000 sí)."
   ]
  },
  {
   "cell_type": "code",
   "execution_count": 3,
   "metadata": {},
   "outputs": [
    {
     "name": "stdout",
     "output_type": "stream",
     "text": [
      "Ingrese año: 1988\n",
      "El año es bisiesto.\n"
     ]
    }
   ],
   "source": [
    "año = int(input(\"Ingrese año: \"))\n",
    "\n",
    "if año%4==0 and año%100!=0 or año%400==0:\n",
    "    print(\"El año es bisiesto.\")\n",
    "else:\n",
    "    print(\"El año no es bisiesto.\")"
   ]
  },
  {
   "cell_type": "markdown",
   "metadata": {},
   "source": [
    "22. Dado los valores de A, B, C que son los coeficientes de la ecuación de segundo grado, hallar sus raíces reales, desplegar los resultados."
   ]
  },
  {
   "cell_type": "code",
   "execution_count": null,
   "metadata": {},
   "outputs": [],
   "source": [
    "print(\"ECUACIÓN A X² + B X + C = 0\")\n",
    "a = float(input(\"Escriba el valor del coeficiente a: \"))\n",
    "b = float(input(\"Escriba el valor del coeficiente b: \"))\n",
    "c = float(input(\"Escriba el valor del coeficiente c: \"))\n",
    "\n",
    "d = b * b - 4 * a * c\n",
    "im = (d**0.5).imag\n",
    "if a == b == c == 0:\n",
    "    print(\"Todos los números son solución.\")\n",
    "elif a == b == 0:\n",
    "    print(\"La ecuación no tiene solución.\")\n",
    "elif a == 0:\n",
    "    print(f\"La ecuación tiene una solución: {- c / b}\")\n",
    "elif d < 0:\n",
    "    print(f\"La ecuación no tiene soluciones reales.\")    \n",
    "elif d == 0:\n",
    "    print(f\"La ecuación tiene una solución: {- b / (2 * a)}\")\n",
    "else:\n",
    "    print(f\"La ecuación tiene dos soluciones: {(-b - d ** 0.5) / (2 * a)} y {(-b + d ** 0.5) / (2 * a)}\")\n"
   ]
  },
  {
   "cell_type": "markdown",
   "metadata": {},
   "source": [
    "### Resolver con WHILE:"
   ]
  },
  {
   "cell_type": "markdown",
   "metadata": {},
   "source": [
    "23. Dado dos valores A y B, realizar el producto de los dos números por sumas sucesivas, almacenar el resultado en una variable P, mostrar el resultado."
   ]
  },
  {
   "cell_type": "code",
   "execution_count": 4,
   "metadata": {},
   "outputs": [
    {
     "name": "stdout",
     "output_type": "stream",
     "text": [
      "Ingrese un numero: 4\n",
      "Ingrese un numero: 3\n",
      "12\n"
     ]
    }
   ],
   "source": [
    "A = int(input(\"Ingrese un numero: \"))\n",
    "B = int(input(\"Ingrese un numero: \"))\n",
    "P = 0\n",
    "\n",
    "while A>0:\n",
    "    P += B\n",
    "    A -= 1\n",
    "    \n",
    "print(P)"
   ]
  },
  {
   "cell_type": "markdown",
   "metadata": {},
   "source": [
    "24. Dado un número X, determinar el número de dígitos del que esta compuesto y desplegar el resultado."
   ]
  },
  {
   "cell_type": "code",
   "execution_count": 11,
   "metadata": {},
   "outputs": [
    {
     "name": "stdout",
     "output_type": "stream",
     "text": [
      "Ingrese un numero: 456\n",
      "Tiene 3 digitos.\n"
     ]
    }
   ],
   "source": [
    "A = input(\"Ingrese un numero: \")\n",
    "P = 0\n",
    "n = list(A)\n",
    "while len(n) > 0:\n",
    "    P += 1\n",
    "    n.pop()\n",
    "    \n",
    "print(f\"Tiene {P} digitos.\")"
   ]
  },
  {
   "cell_type": "markdown",
   "metadata": {},
   "source": [
    "25. Escribir un programa que calcule y visualice el más grande, el más pequeño y la media de N números. El valor de N se solicitará al principio del programa y los números serán introducidos por el usuario."
   ]
  },
  {
   "cell_type": "code",
   "execution_count": 12,
   "metadata": {},
   "outputs": [
    {
     "name": "stdout",
     "output_type": "stream",
     "text": [
      "¿Cuantos numeros seran intrducidos?: 3\n",
      "Ingrese numero: 1\n",
      "Ingrese numero: 2\n",
      "Ingrese numero: 3\n",
      "El numero mas pequeño es 1 y el numero mas grande es 3 y la media es 2.0.\n"
     ]
    }
   ],
   "source": [
    "N = int(input(\"¿Cuantos numeros seran intrducidos?: \"))\n",
    "lista = []\n",
    "while N > 0:\n",
    "    m = int(input(\"Ingrese numero: \"))\n",
    "    lista.append(m)\n",
    "    N -= 1\n",
    "\n",
    "print(f\"El numero mas pequeño es {min(lista)} y el numero mas grande es {max(lista)} y la media es {sum(lista)/len(lista)}.\")"
   ]
  },
  {
   "cell_type": "markdown",
   "metadata": {},
   "source": [
    "26. Dado dos números A y B enteros mayores a cero, hallar A^B por sumas. Desplegar los números y el resultado."
   ]
  },
  {
   "cell_type": "code",
   "execution_count": 14,
   "metadata": {},
   "outputs": [
    {
     "name": "stdout",
     "output_type": "stream",
     "text": [
      "Ingrese un numero mayor a 0: 3\n",
      "Ingrese un numero mayor a 0: 4\n",
      "81\n"
     ]
    }
   ],
   "source": [
    "A = int(input(\"Ingrese un numero mayor a 0: \"))\n",
    "B = int(input(\"Ingrese un numero mayor a 0: \"))\n",
    "\n",
    "P = 1\n",
    "while B>0:\n",
    "    P *= A\n",
    "    B -= 1\n",
    "    \n",
    "print(P)"
   ]
  },
  {
   "cell_type": "markdown",
   "metadata": {},
   "source": [
    "### Resolver con FOR:"
   ]
  },
  {
   "cell_type": "markdown",
   "metadata": {},
   "source": [
    "27. La constante pi (3.1441592...) es muy utilizada en matemáticas. Un método sencillo de calcular su valor es:\n",
    "\n",
    "Escribir un programa que efectúe este cálculo con un número de términos \n",
    "especificando por el usuario.\n"
   ]
  },
  {
   "cell_type": "code",
   "execution_count": 17,
   "metadata": {},
   "outputs": [
    {
     "name": "stdout",
     "output_type": "stream",
     "text": [
      "Numero de terminos: 10\n",
      "3.0021759545569062\n"
     ]
    }
   ],
   "source": [
    "c = int(input(\"Numero de terminos: \"))\n",
    "p = 2\n",
    "\n",
    "for i in range(2,c+1,2):\n",
    "    for j in range(i-1,i+2,2):\n",
    "        #print(f\"{i}/{j}\")\n",
    "        p *= (i/j)\n",
    "        \n",
    "print(p)"
   ]
  },
  {
   "cell_type": "markdown",
   "metadata": {},
   "source": [
    "28. El valor de e^x se puede aproximar por la suma:\n",
    "\n",
    "Escribir un programa que tome un valor de x como entrada y visualice la suma para \n",
    "cada uno de los valores de 1 a 100. "
   ]
  },
  {
   "cell_type": "code",
   "execution_count": 15,
   "metadata": {},
   "outputs": [
    {
     "name": "stdout",
     "output_type": "stream",
     "text": [
      "Numero de terminos: 4\n",
      "54.598150033144265\n"
     ]
    }
   ],
   "source": [
    "x = int(input(\"Numero de terminos: \"))\n",
    "p = 1+x\n",
    "\n",
    "for i in range(2,100):\n",
    "    factorial = 1\n",
    "    for j in range(1, i + 1):\n",
    "        factorial = factorial * j\n",
    "    p += (x**i/factorial)\n",
    "        \n",
    "print(p)"
   ]
  },
  {
   "cell_type": "markdown",
   "metadata": {},
   "source": [
    "### USO DE LISTAS ANIDADAS: "
   ]
  },
  {
   "cell_type": "markdown",
   "metadata": {},
   "source": [
    "29. Calcular la suma de todos los elementos de un vector, así como la media aritmética."
   ]
  },
  {
   "cell_type": "code",
   "execution_count": 20,
   "metadata": {},
   "outputs": [
    {
     "name": "stdout",
     "output_type": "stream",
     "text": [
      "Cuantos elementos tendra el vector: 4\n",
      "Introduce un elemento: 1\n",
      "Introduce un elemento: 2\n",
      "Introduce un elemento: 3\n",
      "Introduce un elemento: 4\n",
      "La suma de los elementos es 10 y la media es 2.5.\n"
     ]
    }
   ],
   "source": [
    "num = int(input(\"Cuantos elementos tendra el vector: \"))\n",
    "v = []\n",
    "\n",
    "while num > 0:\n",
    "    v.append(int(input(\"Introduce un elemento: \")))\n",
    "    num -= 1\n",
    "    \n",
    "print(f\"La suma de los elementos es {sum(v)} y la media es {sum(v)/len(v)}.\")"
   ]
  },
  {
   "cell_type": "markdown",
   "metadata": {},
   "source": [
    "30. Multiplicar dos matrices. "
   ]
  },
  {
   "cell_type": "code",
   "execution_count": 27,
   "metadata": {},
   "outputs": [
    {
     "name": "stdout",
     "output_type": "stream",
     "text": [
      "Introduzca el numero de filas de la primera matriz: 2\n",
      "Introduzca el numero de columnas de la primera matriz: 1\n",
      "Introduzca el numero de columnas de la segunda matriz: 2\n",
      "Inserte los numeros de la primera matriz: \n",
      "(0, 0): 1\n",
      "(1, 0): 2\n",
      "[[1]\n",
      " [2]]\n",
      "Inserte los numeros de la segunda matriz: \n",
      "(0, 0): 3\n",
      "(0, 1): 4\n",
      "[[3 4]]\n",
      "El producto de las matrices es \n",
      "[[3 4]\n",
      " [6 8]].\n"
     ]
    }
   ],
   "source": [
    "import numpy as np\n",
    "\n",
    "f1 = int(input(\"Introduzca el numero de filas de la primera matriz: \"))\n",
    "c1 = int(input(\"Introduzca el numero de columnas de la primera matriz: \"))\n",
    "c2 = int(input(\"Introduzca el numero de columnas de la segunda matriz: \"))\n",
    "\n",
    "m1 = np.array([[0]*c1 for i in range (f1)])\n",
    "m2 = np.array([[0]*c2 for i in range (c1)])\n",
    "\n",
    "print(\"Inserte los numeros de la primera matriz: \")\n",
    "for i in range(f1):\n",
    "    for j in range(c1):\n",
    "        m1[i,j] = int(input(f\"{i, j}: \"))\n",
    "        \n",
    "print(m1)\n",
    "        \n",
    "print(\"Inserte los numeros de la segunda matriz: \")\n",
    "for i in range(c1):\n",
    "    for j in range(c2):\n",
    "        m2[i,j] = int(input(f\"{i, j}: \"))\n",
    "        \n",
    "print(m2)\n",
    "\n",
    "print(f\"El producto de las matrices es \\n{np.dot(m1,m2)}.\")"
   ]
  },
  {
   "cell_type": "markdown",
   "metadata": {},
   "source": [
    "# "
   ]
  },
  {
   "cell_type": "code",
   "execution_count": null,
   "metadata": {},
   "outputs": [],
   "source": []
  }
 ],
 "metadata": {
  "kernelspec": {
   "display_name": "Python 3",
   "language": "python",
   "name": "python3"
  },
  "language_info": {
   "codemirror_mode": {
    "name": "ipython",
    "version": 3
   },
   "file_extension": ".py",
   "mimetype": "text/x-python",
   "name": "python",
   "nbconvert_exporter": "python",
   "pygments_lexer": "ipython3",
   "version": "3.7.4"
  }
 },
 "nbformat": 4,
 "nbformat_minor": 2
}
