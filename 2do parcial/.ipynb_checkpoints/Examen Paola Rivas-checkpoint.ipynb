{
 "cells": [
  {
   "cell_type": "markdown",
   "metadata": {},
   "source": [
    "## PAOLA RIVAS"
   ]
  },
  {
   "cell_type": "code",
   "execution_count": 7,
   "metadata": {},
   "outputs": [
    {
     "name": "stdout",
     "output_type": "stream",
     "text": [
      "SUCESION DE FIBONACCI\n",
      "Escriba el primer valor de la sucesion: 1\n",
      "Escriba el segundo valor de la sucesion: 1\n",
      "Escriba el numero de valores a mostrar: 10\n",
      "1 1 2 3 5 8 13 21 34 55 "
     ]
    }
   ],
   "source": [
    "print(\"SUCESION DE FIBONACCI\")\n",
    "pv = int(input(\"Escriba el primer valor de la sucesion: \"))\n",
    "sv = int(input(\"Escriba el segundo valor de la sucesion: \"))\n",
    "nv = int(input(\"Escriba el numero de valores a mostrar: \"))\n",
    "\n",
    "if nv < 2:\n",
    "    print(\"¡Se deben mostrar al menos dos valores!\")\n",
    "else:\n",
    "    b = 0\n",
    "\n",
    "    while b < nv:\n",
    "        print(pv, end=' ')\n",
    "        pv, sv = sv, pv+sv\n",
    "        b += 1\n",
    "    "
   ]
  },
  {
   "cell_type": "code",
   "execution_count": 30,
   "metadata": {},
   "outputs": [
    {
     "name": "stdout",
     "output_type": "stream",
     "text": [
      "Escriba el numero L: 5\n",
      "Escriba el 1 valor N: 20\n",
      "Escriba el 1 valor K: 2\n",
      "Escriba el 2 valor N: 10\n",
      "Escriba el 2 valor K: 1\n",
      "Escriba el 3 valor N: 20\n",
      "Escriba el 3 valor K: 5\n",
      "Escriba el 4 valor N: 7\n",
      "Escriba el 4 valor K: 5\n",
      "Escriba el 5 valor N: 20\n",
      "Escriba el 5 valor K: 40\n",
      "6\n",
      "0\n",
      "7\n",
      "8\n",
      "42\n"
     ]
    }
   ],
   "source": [
    "L = int(input(\"Escriba el numero L: \"))\n",
    "\n",
    "ns = []\n",
    "ks = []\n",
    "for i in range(L):\n",
    "    \n",
    "    N = int(input(f\"Escriba el {i+1} valor N: \"))\n",
    "    ns.append(N)\n",
    "    K = int(input(f\"Escriba el {i+1} valor K: \"))\n",
    "    ks.append(K)\n",
    "    \n",
    "for i in range(L):\n",
    "    count=0\n",
    "    for j in range(1,ns[i]+1):\n",
    "        #print(j)\n",
    "        if ns[i]%j==0 and j%ks[i]!=0:\n",
    "            #print(j)\n",
    "            count+=j\n",
    "    print(count)"
   ]
  },
  {
   "cell_type": "code",
   "execution_count": 28,
   "metadata": {},
   "outputs": [
    {
     "name": "stdout",
     "output_type": "stream",
     "text": [
      "Escriba el numero de casos: 4\n",
      "[1, 2, 3, 4, 4]\n",
      "[1, 2, 3, 3, 5]\n",
      "[1, 1, 1, 4, 5]\n",
      "[2, 4, 5, 5, 6]\n"
     ]
    }
   ],
   "source": [
    "import random\n",
    "L = int(input(\"Escriba el numero de casos: \"))\n",
    "\n",
    "for i in range(L):\n",
    "    caso=[]\n",
    "    for j in range(5):\n",
    "        dado=random.randint(1, 6)\n",
    "        caso.append(dado)\n",
    "    caso.sort()\n",
    "    print(caso)\n",
    "    #caso = [3,4,4,4,4]\n",
    "    esc = True\n",
    "   \n",
    "    for k in range(4):\n",
    "        if caso[k]!=caso[k+1]-1:\n",
    "            esc = False\n",
    "            \n",
    "    if esc:\n",
    "        print(f\"Escalera 25 puntos {caso}\")  \n",
    "        continue\n",
    "        \n",
    "    gr=True\n",
    "        \n",
    "    for l in range(4):\n",
    "        if caso[l]!=caso[l+1]:\n",
    "            gr = False\n",
    "            \n",
    "    if gr:\n",
    "        print(f\"Grande!! 50 puntos {caso}\")\n",
    "        continue\n",
    "       \n",
    "    mas = 0\n",
    "    menos = 0\n",
    "    \n",
    "    for m in range(4):\n",
    "        if caso[m] == caso[m+1]:\n",
    "            mas += 1\n",
    "    #print(mas)\n",
    "            \n",
    "    for n in range(4,1,-1):\n",
    "        if caso[n] == caso[n-1]:\n",
    "            menos += 1\n",
    "    #print(menos)\n",
    "    \n",
    "    if (mas == 2 and menos == 3) or (mas == 3 and menos == 2):\n",
    "        print(f\"Full!! 35 puntos {caso}\")\n",
    "        \n",
    "    elif (mas == 3) or (menos == 3):\n",
    "        print(f\"Poker!! 45 puntos {caso}\")\n",
    "        "
   ]
  },
  {
   "cell_type": "code",
   "execution_count": 17,
   "metadata": {},
   "outputs": [
    {
     "name": "stdout",
     "output_type": "stream",
     "text": [
      " 2\n",
      " hola\n",
      " como\n",
      "['hola', 'como']\n",
      "not yet\n",
      "not yet\n",
      "not yet\n",
      "not yet\n",
      "['h', 'o', 'l', 'a', 'c', 'o', 'o', 'm', 'o', 'o']\n"
     ]
    }
   ],
   "source": [
    "n = int(input(\" \"))\n",
    "\n",
    "palabras = []\n",
    "for i in range(n):\n",
    "    palabras.append(input(\" \"))\n",
    "    \n",
    "print(palabras)\n",
    "count = []\n",
    "letter = []\n",
    "for k in range(n):\n",
    "    for char in palabras[k]:\n",
    "        #print(many)\n",
    "        if palabras[k].count(char) > 1:\n",
    "            for i in range(len(palabras[k])):\n",
    "                if palabras[k][i:].count(char) > 1:\n",
    "                    print(\"not yet\")\n",
    "                    #continue\n",
    "                else:    \n",
    "                    count.append(palabras[k].count(char))\n",
    "                    letter.append(char)\n",
    "        else:\n",
    "            count.append(palabras[k].count(char))\n",
    "            letter.append(char)\n",
    "        \n",
    "#cantidad=list(zip(count, letter))\n",
    "    \n",
    "print(letter)"
   ]
  },
  {
   "cell_type": "code",
   "execution_count": 10,
   "metadata": {},
   "outputs": [
    {
     "name": "stdout",
     "output_type": "stream",
     "text": [
      "Counter({'o': 2, 's': 2, 'c': 1, 'm': 1, ' ': 1, 'e': 1, 't': 1, 'a': 1})\n",
      "2\n"
     ]
    }
   ],
   "source": [
    "from collections import Counter\n",
    "word=\"como estas\"\n",
    "word2=\"hola\"\n",
    "counts=Counter(word)\n",
    "counts2=Counter(word2)\n",
    "print(counts)\n",
    "print(counts['o'])\n"
   ]
  },
  {
   "cell_type": "code",
   "execution_count": 21,
   "metadata": {},
   "outputs": [
    {
     "name": "stdout",
     "output_type": "stream",
     "text": [
      "mocomo\n",
      "3\n",
      "2\n",
      "mocomo\n",
      "3\n",
      "1\n",
      "mocomo\n",
      "3\n",
      "0\n",
      "mocomo\n",
      "3\n",
      "1\n",
      "mocomo\n",
      "3\n",
      "2\n",
      "mocomo\n",
      "3\n",
      "1\n",
      "mocomo\n",
      "3\n",
      "0\n",
      "mocomo\n",
      "3\n",
      "1\n"
     ]
    }
   ],
   "source": [
    "x = \"comocomo\"\n",
    "for char in x:\n",
    "    print(x[2:])\n",
    "    print(x[2:].count('o'))\n",
    "    print(x[2:].index(char))"
   ]
  },
  {
   "cell_type": "code",
   "execution_count": null,
   "metadata": {},
   "outputs": [],
   "source": []
  }
 ],
 "metadata": {
  "kernelspec": {
   "display_name": "Python 3",
   "language": "python",
   "name": "python3"
  },
  "language_info": {
   "codemirror_mode": {
    "name": "ipython",
    "version": 3
   },
   "file_extension": ".py",
   "mimetype": "text/x-python",
   "name": "python",
   "nbconvert_exporter": "python",
   "pygments_lexer": "ipython3",
   "version": "3.7.4"
  }
 },
 "nbformat": 4,
 "nbformat_minor": 2
}
